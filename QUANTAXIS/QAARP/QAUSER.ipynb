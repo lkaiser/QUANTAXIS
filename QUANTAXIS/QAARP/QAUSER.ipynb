{
 "cells": [
  {
   "cell_type": "code",
   "execution_count": 1,
   "metadata": {},
   "outputs": [],
   "source": [
    "import QUANTAXIS as QA"
   ]
  },
  {
   "cell_type": "code",
   "execution_count": 2,
   "metadata": {},
   "outputs": [],
   "source": [
    "user= QA.QA_User()"
   ]
  },
  {
   "cell_type": "code",
   "execution_count": 3,
   "metadata": {},
   "outputs": [
    {
     "data": {
      "text/plain": [
       "(True, '3f2424a9-1b0d-11e9-b891-9cb6d020b9c2')"
      ]
     },
     "execution_count": 3,
     "metadata": {},
     "output_type": "execute_result"
    }
   ],
   "source": [
    "user.subscribe_strategy('s1_jm',1)\n",
    "user.subscribe_strategy('s1_j',2)\n",
    "user.subscribe_strategy('s1_rb',4)"
   ]
  },
  {
   "cell_type": "code",
   "execution_count": 4,
   "metadata": {},
   "outputs": [],
   "source": [
    "import pandas as pd"
   ]
  },
  {
   "cell_type": "code",
   "execution_count": 5,
   "metadata": {
    "scrolled": false
   },
   "outputs": [
    {
     "data": {
      "text/html": [
       "<div>\n",
       "<style scoped>\n",
       "    .dataframe tbody tr th:only-of-type {\n",
       "        vertical-align: middle;\n",
       "    }\n",
       "\n",
       "    .dataframe tbody tr th {\n",
       "        vertical-align: top;\n",
       "    }\n",
       "\n",
       "    .dataframe thead th {\n",
       "        text-align: right;\n",
       "    }\n",
       "</style>\n",
       "<table border=\"1\" class=\"dataframe\">\n",
       "  <thead>\n",
       "    <tr style=\"text-align: right;\">\n",
       "      <th></th>\n",
       "      <th>end</th>\n",
       "      <th>lasttime</th>\n",
       "      <th>start</th>\n",
       "      <th>status</th>\n",
       "      <th>strategy_id</th>\n",
       "      <th>uuid</th>\n",
       "    </tr>\n",
       "  </thead>\n",
       "  <tbody>\n",
       "    <tr>\n",
       "      <th>0</th>\n",
       "      <td>2019-01-21</td>\n",
       "      <td>1</td>\n",
       "      <td>2019-01-18</td>\n",
       "      <td>running</td>\n",
       "      <td>s1_jm</td>\n",
       "      <td>3f23fc64-1b0d-11e9-83f3-9cb6d020b9c2</td>\n",
       "    </tr>\n",
       "    <tr>\n",
       "      <th>1</th>\n",
       "      <td>2019-01-22</td>\n",
       "      <td>2</td>\n",
       "      <td>2019-01-18</td>\n",
       "      <td>running</td>\n",
       "      <td>s1_j</td>\n",
       "      <td>3f2424a8-1b0d-11e9-a32e-9cb6d020b9c2</td>\n",
       "    </tr>\n",
       "    <tr>\n",
       "      <th>2</th>\n",
       "      <td>2019-01-24</td>\n",
       "      <td>4</td>\n",
       "      <td>2019-01-18</td>\n",
       "      <td>running</td>\n",
       "      <td>s1_rb</td>\n",
       "      <td>3f2424a9-1b0d-11e9-b891-9cb6d020b9c2</td>\n",
       "    </tr>\n",
       "  </tbody>\n",
       "</table>\n",
       "</div>"
      ],
      "text/plain": [
       "          end  lasttime       start   status strategy_id  \\\n",
       "0  2019-01-21         1  2019-01-18  running       s1_jm   \n",
       "1  2019-01-22         2  2019-01-18  running        s1_j   \n",
       "2  2019-01-24         4  2019-01-18  running       s1_rb   \n",
       "\n",
       "                                   uuid  \n",
       "0  3f23fc64-1b0d-11e9-83f3-9cb6d020b9c2  \n",
       "1  3f2424a8-1b0d-11e9-a32e-9cb6d020b9c2  \n",
       "2  3f2424a9-1b0d-11e9-b891-9cb6d020b9c2  "
      ]
     },
     "execution_count": 5,
     "metadata": {},
     "output_type": "execute_result"
    }
   ],
   "source": [
    "user.subscribed_strategy"
   ]
  },
  {
   "cell_type": "code",
   "execution_count": 6,
   "metadata": {},
   "outputs": [
    {
     "data": {
      "text/html": [
       "<div>\n",
       "<style scoped>\n",
       "    .dataframe tbody tr th:only-of-type {\n",
       "        vertical-align: middle;\n",
       "    }\n",
       "\n",
       "    .dataframe tbody tr th {\n",
       "        vertical-align: top;\n",
       "    }\n",
       "\n",
       "    .dataframe thead th {\n",
       "        text-align: right;\n",
       "    }\n",
       "</style>\n",
       "<table border=\"1\" class=\"dataframe\">\n",
       "  <thead>\n",
       "    <tr style=\"text-align: right;\">\n",
       "      <th></th>\n",
       "      <th>cost_coins</th>\n",
       "      <th>strategy_id</th>\n",
       "      <th>start</th>\n",
       "      <th>last</th>\n",
       "      <th>strategy_uuid</th>\n",
       "      <th>event</th>\n",
       "    </tr>\n",
       "  </thead>\n",
       "  <tbody>\n",
       "    <tr>\n",
       "      <th>0</th>\n",
       "      <td>10</td>\n",
       "      <td>s1_jm</td>\n",
       "      <td>2019-01-18</td>\n",
       "      <td>1</td>\n",
       "      <td>d19aacf0-1b0c-11e9-bcfa-9cb6d020b9c2</td>\n",
       "      <td>subscribe</td>\n",
       "    </tr>\n",
       "    <tr>\n",
       "      <th>1</th>\n",
       "      <td>10</td>\n",
       "      <td>s1_j</td>\n",
       "      <td>2019-01-18</td>\n",
       "      <td>2</td>\n",
       "      <td>d19aacf1-1b0c-11e9-9522-9cb6d020b9c2</td>\n",
       "      <td>subscribe</td>\n",
       "    </tr>\n",
       "    <tr>\n",
       "      <th>2</th>\n",
       "      <td>10</td>\n",
       "      <td>s1_rb</td>\n",
       "      <td>2019-01-18</td>\n",
       "      <td>4</td>\n",
       "      <td>d19aacf2-1b0c-11e9-b37e-9cb6d020b9c2</td>\n",
       "      <td>subscribe</td>\n",
       "    </tr>\n",
       "    <tr>\n",
       "      <th>3</th>\n",
       "      <td>0</td>\n",
       "      <td>s1_jm</td>\n",
       "      <td>2019-01-18</td>\n",
       "      <td>0</td>\n",
       "      <td>d1a3eb54-1b0c-11e9-809a-9cb6d020b9c2</td>\n",
       "      <td>unsubscribe</td>\n",
       "    </tr>\n",
       "    <tr>\n",
       "      <th>4</th>\n",
       "      <td>10</td>\n",
       "      <td>s1_jm</td>\n",
       "      <td>2019-01-18</td>\n",
       "      <td>1</td>\n",
       "      <td>3f23fc64-1b0d-11e9-83f3-9cb6d020b9c2</td>\n",
       "      <td>subscribe</td>\n",
       "    </tr>\n",
       "    <tr>\n",
       "      <th>5</th>\n",
       "      <td>10</td>\n",
       "      <td>s1_j</td>\n",
       "      <td>2019-01-18</td>\n",
       "      <td>2</td>\n",
       "      <td>3f2424a8-1b0d-11e9-a32e-9cb6d020b9c2</td>\n",
       "      <td>subscribe</td>\n",
       "    </tr>\n",
       "    <tr>\n",
       "      <th>6</th>\n",
       "      <td>10</td>\n",
       "      <td>s1_rb</td>\n",
       "      <td>2019-01-18</td>\n",
       "      <td>4</td>\n",
       "      <td>3f2424a9-1b0d-11e9-b891-9cb6d020b9c2</td>\n",
       "      <td>subscribe</td>\n",
       "    </tr>\n",
       "  </tbody>\n",
       "</table>\n",
       "</div>"
      ],
      "text/plain": [
       "   cost_coins strategy_id       start  last  \\\n",
       "0          10       s1_jm  2019-01-18     1   \n",
       "1          10        s1_j  2019-01-18     2   \n",
       "2          10       s1_rb  2019-01-18     4   \n",
       "3           0       s1_jm  2019-01-18     0   \n",
       "4          10       s1_jm  2019-01-18     1   \n",
       "5          10        s1_j  2019-01-18     2   \n",
       "6          10       s1_rb  2019-01-18     4   \n",
       "\n",
       "                          strategy_uuid        event  \n",
       "0  d19aacf0-1b0c-11e9-bcfa-9cb6d020b9c2    subscribe  \n",
       "1  d19aacf1-1b0c-11e9-9522-9cb6d020b9c2    subscribe  \n",
       "2  d19aacf2-1b0c-11e9-b37e-9cb6d020b9c2    subscribe  \n",
       "3  d1a3eb54-1b0c-11e9-809a-9cb6d020b9c2  unsubscribe  \n",
       "4  3f23fc64-1b0d-11e9-83f3-9cb6d020b9c2    subscribe  \n",
       "5  3f2424a8-1b0d-11e9-a32e-9cb6d020b9c2    subscribe  \n",
       "6  3f2424a9-1b0d-11e9-b891-9cb6d020b9c2    subscribe  "
      ]
     },
     "execution_count": 6,
     "metadata": {},
     "output_type": "execute_result"
    }
   ],
   "source": [
    "user.coins_table"
   ]
  },
  {
   "cell_type": "code",
   "execution_count": 7,
   "metadata": {},
   "outputs": [
    {
     "data": {
      "text/plain": [
       "9940"
      ]
     },
     "execution_count": 7,
     "metadata": {},
     "output_type": "execute_result"
    }
   ],
   "source": [
    "user.coins"
   ]
  },
  {
   "cell_type": "code",
   "execution_count": 8,
   "metadata": {},
   "outputs": [],
   "source": [
    "user.unsubscribe_stratgy('s1_jm')"
   ]
  },
  {
   "cell_type": "code",
   "execution_count": 9,
   "metadata": {},
   "outputs": [
    {
     "data": {
      "text/html": [
       "<div>\n",
       "<style scoped>\n",
       "    .dataframe tbody tr th:only-of-type {\n",
       "        vertical-align: middle;\n",
       "    }\n",
       "\n",
       "    .dataframe tbody tr th {\n",
       "        vertical-align: top;\n",
       "    }\n",
       "\n",
       "    .dataframe thead th {\n",
       "        text-align: right;\n",
       "    }\n",
       "</style>\n",
       "<table border=\"1\" class=\"dataframe\">\n",
       "  <thead>\n",
       "    <tr style=\"text-align: right;\">\n",
       "      <th></th>\n",
       "      <th>end</th>\n",
       "      <th>lasttime</th>\n",
       "      <th>start</th>\n",
       "      <th>status</th>\n",
       "      <th>strategy_id</th>\n",
       "      <th>uuid</th>\n",
       "    </tr>\n",
       "  </thead>\n",
       "  <tbody>\n",
       "    <tr>\n",
       "      <th>0</th>\n",
       "      <td>2019-01-21</td>\n",
       "      <td>1</td>\n",
       "      <td>2019-01-18</td>\n",
       "      <td>canceled</td>\n",
       "      <td>s1_jm</td>\n",
       "      <td>3f23fc64-1b0d-11e9-83f3-9cb6d020b9c2</td>\n",
       "    </tr>\n",
       "    <tr>\n",
       "      <th>1</th>\n",
       "      <td>2019-01-22</td>\n",
       "      <td>2</td>\n",
       "      <td>2019-01-18</td>\n",
       "      <td>running</td>\n",
       "      <td>s1_j</td>\n",
       "      <td>3f2424a8-1b0d-11e9-a32e-9cb6d020b9c2</td>\n",
       "    </tr>\n",
       "    <tr>\n",
       "      <th>2</th>\n",
       "      <td>2019-01-24</td>\n",
       "      <td>4</td>\n",
       "      <td>2019-01-18</td>\n",
       "      <td>running</td>\n",
       "      <td>s1_rb</td>\n",
       "      <td>3f2424a9-1b0d-11e9-b891-9cb6d020b9c2</td>\n",
       "    </tr>\n",
       "  </tbody>\n",
       "</table>\n",
       "</div>"
      ],
      "text/plain": [
       "          end  lasttime       start    status strategy_id  \\\n",
       "0  2019-01-21         1  2019-01-18  canceled       s1_jm   \n",
       "1  2019-01-22         2  2019-01-18   running        s1_j   \n",
       "2  2019-01-24         4  2019-01-18   running       s1_rb   \n",
       "\n",
       "                                   uuid  \n",
       "0  3f23fc64-1b0d-11e9-83f3-9cb6d020b9c2  \n",
       "1  3f2424a8-1b0d-11e9-a32e-9cb6d020b9c2  \n",
       "2  3f2424a9-1b0d-11e9-b891-9cb6d020b9c2  "
      ]
     },
     "execution_count": 9,
     "metadata": {},
     "output_type": "execute_result"
    }
   ],
   "source": [
    "user.subscribed_strategy"
   ]
  },
  {
   "cell_type": "code",
   "execution_count": 10,
   "metadata": {},
   "outputs": [
    {
     "data": {
      "text/html": [
       "<div>\n",
       "<style scoped>\n",
       "    .dataframe tbody tr th:only-of-type {\n",
       "        vertical-align: middle;\n",
       "    }\n",
       "\n",
       "    .dataframe tbody tr th {\n",
       "        vertical-align: top;\n",
       "    }\n",
       "\n",
       "    .dataframe thead th {\n",
       "        text-align: right;\n",
       "    }\n",
       "</style>\n",
       "<table border=\"1\" class=\"dataframe\">\n",
       "  <thead>\n",
       "    <tr style=\"text-align: right;\">\n",
       "      <th></th>\n",
       "      <th>cost_coins</th>\n",
       "      <th>strategy_id</th>\n",
       "      <th>start</th>\n",
       "      <th>last</th>\n",
       "      <th>strategy_uuid</th>\n",
       "      <th>event</th>\n",
       "    </tr>\n",
       "  </thead>\n",
       "  <tbody>\n",
       "    <tr>\n",
       "      <th>0</th>\n",
       "      <td>10</td>\n",
       "      <td>s1_jm</td>\n",
       "      <td>2019-01-18</td>\n",
       "      <td>1</td>\n",
       "      <td>d19aacf0-1b0c-11e9-bcfa-9cb6d020b9c2</td>\n",
       "      <td>subscribe</td>\n",
       "    </tr>\n",
       "    <tr>\n",
       "      <th>1</th>\n",
       "      <td>10</td>\n",
       "      <td>s1_j</td>\n",
       "      <td>2019-01-18</td>\n",
       "      <td>2</td>\n",
       "      <td>d19aacf1-1b0c-11e9-9522-9cb6d020b9c2</td>\n",
       "      <td>subscribe</td>\n",
       "    </tr>\n",
       "    <tr>\n",
       "      <th>2</th>\n",
       "      <td>10</td>\n",
       "      <td>s1_rb</td>\n",
       "      <td>2019-01-18</td>\n",
       "      <td>4</td>\n",
       "      <td>d19aacf2-1b0c-11e9-b37e-9cb6d020b9c2</td>\n",
       "      <td>subscribe</td>\n",
       "    </tr>\n",
       "    <tr>\n",
       "      <th>3</th>\n",
       "      <td>0</td>\n",
       "      <td>s1_jm</td>\n",
       "      <td>2019-01-18</td>\n",
       "      <td>0</td>\n",
       "      <td>d1a3eb54-1b0c-11e9-809a-9cb6d020b9c2</td>\n",
       "      <td>unsubscribe</td>\n",
       "    </tr>\n",
       "    <tr>\n",
       "      <th>4</th>\n",
       "      <td>10</td>\n",
       "      <td>s1_jm</td>\n",
       "      <td>2019-01-18</td>\n",
       "      <td>1</td>\n",
       "      <td>3f23fc64-1b0d-11e9-83f3-9cb6d020b9c2</td>\n",
       "      <td>subscribe</td>\n",
       "    </tr>\n",
       "    <tr>\n",
       "      <th>5</th>\n",
       "      <td>10</td>\n",
       "      <td>s1_j</td>\n",
       "      <td>2019-01-18</td>\n",
       "      <td>2</td>\n",
       "      <td>3f2424a8-1b0d-11e9-a32e-9cb6d020b9c2</td>\n",
       "      <td>subscribe</td>\n",
       "    </tr>\n",
       "    <tr>\n",
       "      <th>6</th>\n",
       "      <td>10</td>\n",
       "      <td>s1_rb</td>\n",
       "      <td>2019-01-18</td>\n",
       "      <td>4</td>\n",
       "      <td>3f2424a9-1b0d-11e9-b891-9cb6d020b9c2</td>\n",
       "      <td>subscribe</td>\n",
       "    </tr>\n",
       "    <tr>\n",
       "      <th>7</th>\n",
       "      <td>0</td>\n",
       "      <td>s1_jm</td>\n",
       "      <td>2019-01-18</td>\n",
       "      <td>0</td>\n",
       "      <td>3f2f9c58-1b0d-11e9-b29e-9cb6d020b9c2</td>\n",
       "      <td>unsubscribe</td>\n",
       "    </tr>\n",
       "  </tbody>\n",
       "</table>\n",
       "</div>"
      ],
      "text/plain": [
       "   cost_coins strategy_id       start  last  \\\n",
       "0          10       s1_jm  2019-01-18     1   \n",
       "1          10        s1_j  2019-01-18     2   \n",
       "2          10       s1_rb  2019-01-18     4   \n",
       "3           0       s1_jm  2019-01-18     0   \n",
       "4          10       s1_jm  2019-01-18     1   \n",
       "5          10        s1_j  2019-01-18     2   \n",
       "6          10       s1_rb  2019-01-18     4   \n",
       "7           0       s1_jm  2019-01-18     0   \n",
       "\n",
       "                          strategy_uuid        event  \n",
       "0  d19aacf0-1b0c-11e9-bcfa-9cb6d020b9c2    subscribe  \n",
       "1  d19aacf1-1b0c-11e9-9522-9cb6d020b9c2    subscribe  \n",
       "2  d19aacf2-1b0c-11e9-b37e-9cb6d020b9c2    subscribe  \n",
       "3  d1a3eb54-1b0c-11e9-809a-9cb6d020b9c2  unsubscribe  \n",
       "4  3f23fc64-1b0d-11e9-83f3-9cb6d020b9c2    subscribe  \n",
       "5  3f2424a8-1b0d-11e9-a32e-9cb6d020b9c2    subscribe  \n",
       "6  3f2424a9-1b0d-11e9-b891-9cb6d020b9c2    subscribe  \n",
       "7  3f2f9c58-1b0d-11e9-b29e-9cb6d020b9c2  unsubscribe  "
      ]
     },
     "execution_count": 10,
     "metadata": {},
     "output_type": "execute_result"
    }
   ],
   "source": [
    "user.coins_table"
   ]
  },
  {
   "cell_type": "code",
   "execution_count": 11,
   "metadata": {},
   "outputs": [],
   "source": [
    "import datetime"
   ]
  },
  {
   "cell_type": "code",
   "execution_count": 12,
   "metadata": {},
   "outputs": [],
   "source": [
    "#pd.Timestamp('2018-11-05')-pd.Timestamp('2018-11-10')>datetime.timedelta(days=0)"
   ]
  },
  {
   "cell_type": "code",
   "execution_count": 13,
   "metadata": {},
   "outputs": [
    {
     "data": {
      "text/html": [
       "<div>\n",
       "<style scoped>\n",
       "    .dataframe tbody tr th:only-of-type {\n",
       "        vertical-align: middle;\n",
       "    }\n",
       "\n",
       "    .dataframe tbody tr th {\n",
       "        vertical-align: top;\n",
       "    }\n",
       "\n",
       "    .dataframe thead th {\n",
       "        text-align: right;\n",
       "    }\n",
       "</style>\n",
       "<table border=\"1\" class=\"dataframe\">\n",
       "  <thead>\n",
       "    <tr style=\"text-align: right;\">\n",
       "      <th></th>\n",
       "      <th>end</th>\n",
       "      <th>lasttime</th>\n",
       "      <th>start</th>\n",
       "      <th>status</th>\n",
       "      <th>strategy_id</th>\n",
       "      <th>uuid</th>\n",
       "      <th>remains</th>\n",
       "    </tr>\n",
       "  </thead>\n",
       "  <tbody>\n",
       "    <tr>\n",
       "      <th>1</th>\n",
       "      <td>2019-01-22</td>\n",
       "      <td>2</td>\n",
       "      <td>2019-01-18</td>\n",
       "      <td>running</td>\n",
       "      <td>s1_j</td>\n",
       "      <td>3f2424a8-1b0d-11e9-a32e-9cb6d020b9c2</td>\n",
       "      <td>4 days</td>\n",
       "    </tr>\n",
       "    <tr>\n",
       "      <th>2</th>\n",
       "      <td>2019-01-24</td>\n",
       "      <td>4</td>\n",
       "      <td>2019-01-18</td>\n",
       "      <td>running</td>\n",
       "      <td>s1_rb</td>\n",
       "      <td>3f2424a9-1b0d-11e9-b891-9cb6d020b9c2</td>\n",
       "      <td>6 days</td>\n",
       "    </tr>\n",
       "  </tbody>\n",
       "</table>\n",
       "</div>"
      ],
      "text/plain": [
       "          end  lasttime       start   status strategy_id  \\\n",
       "1  2019-01-22         2  2019-01-18  running        s1_j   \n",
       "2  2019-01-24         4  2019-01-18  running       s1_rb   \n",
       "\n",
       "                                   uuid remains  \n",
       "1  3f2424a8-1b0d-11e9-a32e-9cb6d020b9c2  4 days  \n",
       "2  3f2424a9-1b0d-11e9-b891-9cb6d020b9c2  6 days  "
      ]
     },
     "execution_count": 13,
     "metadata": {},
     "output_type": "execute_result"
    }
   ],
   "source": [
    "user.subscribing_strategy"
   ]
  },
  {
   "cell_type": "code",
   "execution_count": 14,
   "metadata": {},
   "outputs": [
    {
     "data": {
      "text/html": [
       "<div>\n",
       "<style scoped>\n",
       "    .dataframe tbody tr th:only-of-type {\n",
       "        vertical-align: middle;\n",
       "    }\n",
       "\n",
       "    .dataframe tbody tr th {\n",
       "        vertical-align: top;\n",
       "    }\n",
       "\n",
       "    .dataframe thead th {\n",
       "        text-align: right;\n",
       "    }\n",
       "</style>\n",
       "<table border=\"1\" class=\"dataframe\">\n",
       "  <thead>\n",
       "    <tr style=\"text-align: right;\">\n",
       "      <th></th>\n",
       "      <th>end</th>\n",
       "      <th>lasttime</th>\n",
       "      <th>start</th>\n",
       "      <th>status</th>\n",
       "      <th>strategy_id</th>\n",
       "      <th>uuid</th>\n",
       "    </tr>\n",
       "  </thead>\n",
       "  <tbody>\n",
       "    <tr>\n",
       "      <th>0</th>\n",
       "      <td>2019-01-21</td>\n",
       "      <td>1</td>\n",
       "      <td>2019-01-18</td>\n",
       "      <td>canceled</td>\n",
       "      <td>s1_jm</td>\n",
       "      <td>3f23fc64-1b0d-11e9-83f3-9cb6d020b9c2</td>\n",
       "    </tr>\n",
       "    <tr>\n",
       "      <th>1</th>\n",
       "      <td>2019-01-22</td>\n",
       "      <td>2</td>\n",
       "      <td>2019-01-18</td>\n",
       "      <td>running</td>\n",
       "      <td>s1_j</td>\n",
       "      <td>3f2424a8-1b0d-11e9-a32e-9cb6d020b9c2</td>\n",
       "    </tr>\n",
       "    <tr>\n",
       "      <th>2</th>\n",
       "      <td>2019-01-24</td>\n",
       "      <td>4</td>\n",
       "      <td>2019-01-18</td>\n",
       "      <td>running</td>\n",
       "      <td>s1_rb</td>\n",
       "      <td>3f2424a9-1b0d-11e9-b891-9cb6d020b9c2</td>\n",
       "    </tr>\n",
       "  </tbody>\n",
       "</table>\n",
       "</div>"
      ],
      "text/plain": [
       "          end  lasttime       start    status strategy_id  \\\n",
       "0  2019-01-21         1  2019-01-18  canceled       s1_jm   \n",
       "1  2019-01-22         2  2019-01-18   running        s1_j   \n",
       "2  2019-01-24         4  2019-01-18   running       s1_rb   \n",
       "\n",
       "                                   uuid  \n",
       "0  3f23fc64-1b0d-11e9-83f3-9cb6d020b9c2  \n",
       "1  3f2424a8-1b0d-11e9-a32e-9cb6d020b9c2  \n",
       "2  3f2424a9-1b0d-11e9-b891-9cb6d020b9c2  "
      ]
     },
     "execution_count": 14,
     "metadata": {},
     "output_type": "execute_result"
    }
   ],
   "source": [
    "user.subscribed_strategy"
   ]
  },
  {
   "cell_type": "markdown",
   "metadata": {},
   "source": [
    "# 账户的同步和更新\n",
    "\n",
    "QA_User在初始化的时候会自动同步数据库, 更新自己"
   ]
  },
  {
   "cell_type": "code",
   "execution_count": 15,
   "metadata": {},
   "outputs": [],
   "source": [
    "user1=QA.QA_User(username='admin',password='admin')"
   ]
  },
  {
   "cell_type": "code",
   "execution_count": 16,
   "metadata": {},
   "outputs": [
    {
     "data": {
      "text/plain": [
       "< QA_USER USER_a41s8LNl with 0 portfolio: {} >"
      ]
     },
     "execution_count": 16,
     "metadata": {},
     "output_type": "execute_result"
    }
   ],
   "source": [
    "user1.sync()"
   ]
  },
  {
   "cell_type": "code",
   "execution_count": 17,
   "metadata": {},
   "outputs": [
    {
     "data": {
      "text/plain": [
       "{'user_cookie': 'USER_a41s8LNl',\n",
       " 'username': 'admin',\n",
       " 'password': 'admin',\n",
       " 'phone': '18626855195',\n",
       " 'level': 'l1',\n",
       " 'utype': 'guests',\n",
       " 'coins': 10000,\n",
       " 'coins_history': [],\n",
       " 'money': 100000,\n",
       " 'subuscribed_strategy': {},\n",
       " 'subscribed_code': []}"
      ]
     },
     "execution_count": 17,
     "metadata": {},
     "output_type": "execute_result"
    }
   ],
   "source": [
    "user1.message"
   ]
  },
  {
   "cell_type": "code",
   "execution_count": 22,
   "metadata": {},
   "outputs": [],
   "source": [
    "user1.money=200000"
   ]
  },
  {
   "cell_type": "code",
   "execution_count": 23,
   "metadata": {},
   "outputs": [],
   "source": [
    "user1.save()"
   ]
  },
  {
   "cell_type": "code",
   "execution_count": 24,
   "metadata": {},
   "outputs": [
    {
     "data": {
      "text/plain": [
       "{'user_cookie': 'USER_a41s8LNl',\n",
       " 'username': 'admin',\n",
       " 'password': 'admin',\n",
       " 'phone': '18626855195',\n",
       " 'level': 'l1',\n",
       " 'utype': 'guests',\n",
       " 'coins': 10000,\n",
       " 'coins_history': [],\n",
       " 'money': 200000,\n",
       " 'subuscribed_strategy': {},\n",
       " 'subscribed_code': []}"
      ]
     },
     "execution_count": 24,
     "metadata": {},
     "output_type": "execute_result"
    }
   ],
   "source": [
    "user1.message"
   ]
  },
  {
   "cell_type": "code",
   "execution_count": 25,
   "metadata": {},
   "outputs": [
    {
     "data": {
      "text/plain": [
       "{'user_cookie': 'USER_e2o0TdQV',\n",
       " 'username': 'admin',\n",
       " 'password': 'admin',\n",
       " 'phone': '18626855195',\n",
       " 'level': 'l1',\n",
       " 'utype': 'guests',\n",
       " 'coins': 10000,\n",
       " 'coins_history': [],\n",
       " 'money': 200000,\n",
       " 'subuscribed_strategy': {},\n",
       " 'subscribed_code': []}"
      ]
     },
     "execution_count": 25,
     "metadata": {},
     "output_type": "execute_result"
    }
   ],
   "source": [
    "QA.QA_User(username='admin',password='admin').message"
   ]
  }
 ],
 "metadata": {
  "kernelspec": {
   "display_name": "Python 3",
   "language": "python",
   "name": "python3"
  },
  "language_info": {
   "codemirror_mode": {
    "name": "ipython",
    "version": 3
   },
   "file_extension": ".py",
   "mimetype": "text/x-python",
   "name": "python",
   "nbconvert_exporter": "python",
   "pygments_lexer": "ipython3",
   "version": "3.6.7"
  }
 },
 "nbformat": 4,
 "nbformat_minor": 2
}
